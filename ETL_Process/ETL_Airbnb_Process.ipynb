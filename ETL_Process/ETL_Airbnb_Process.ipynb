{
 "cells": [
  {
   "cell_type": "markdown",
   "id": "8eadb28a",
   "metadata": {},
   "source": [
    "# Import Required Libraries\n",
    "Import pandas, numpy, and os for data manipulation and file operations."
   ]
  },
  {
   "cell_type": "code",
   "execution_count": 1,
   "id": "82598451",
   "metadata": {},
   "outputs": [],
   "source": [
    "import pandas as pd\n",
    "import numpy as np\n",
    "import os"
   ]
  },
  {
   "cell_type": "markdown",
   "id": "e86056d8",
   "metadata": {},
   "source": [
    "# Load the Airbnb Dataset\n",
    "Read the Airbnb dataset from an Excel file. Handle errors if the file or directory does not exist."
   ]
  },
  {
   "cell_type": "code",
   "execution_count": 2,
   "id": "e88afe38",
   "metadata": {},
   "outputs": [
    {
     "name": "stdout",
     "output_type": "stream",
     "text": [
      "===== Retrieve original dataset successfully =====\n"
     ]
    }
   ],
   "source": [
    "# Read the Airbnb dataset\n",
    "try:\n",
    "    Airbnb_df = pd.read_excel(os.path.join(\"..\", \"Datasource\", \"airbnb.xlsx\"))\n",
    "    print(\"===== Retrieve original dataset successfully =====\")\n",
    "except Exception as e:\n",
    "    print(f\"Error reading dataset: {str(e)}\")\n",
    "    print(\"Please check if the 'Datasource' directory exists and you have read permissions.\")"
   ]
  },
  {
   "cell_type": "markdown",
   "id": "374a499a",
   "metadata": {},
   "source": [
    "# Initial Data Exploration\n",
    "Display the shape of the dataset and print all column names to understand the data structure."
   ]
  },
  {
   "cell_type": "code",
   "execution_count": 3,
   "id": "091c594e",
   "metadata": {},
   "outputs": [
    {
     "name": "stdout",
     "output_type": "stream",
     "text": [
      "Dataset Overview: 30,478 x 13\n",
      "\n",
      "All Column Names:\n",
      " 1. Host Id\n",
      " 2. Host Since\n",
      " 3. Name\n",
      " 4. Neighbourhood \n",
      " 5. Property Type\n",
      " 6. Review Scores Rating (bin)\n",
      " 7. Room Type\n",
      " 8. Zipcode\n",
      " 9. Beds\n",
      "10. Number of Records\n",
      "11. Number Of Reviews\n",
      "12. Price\n",
      "13. Review Scores Rating\n"
     ]
    }
   ],
   "source": [
    "# Display the shape of the dataset\n",
    "print(f\"Dataset Overview: {Airbnb_df.shape[0]:,} x {Airbnb_df.shape[1]}\")\n",
    "\n",
    "# Print all column names\n",
    "print(\"\\nAll Column Names:\")\n",
    "for i, col in enumerate(Airbnb_df.columns, 1):\n",
    "    print(f\"{i:2d}. {col}\")"
   ]
  },
  {
   "cell_type": "markdown",
   "id": "814d3d2f",
   "metadata": {},
   "source": [
    "# Sort and Describe Data\n",
    "Sort the dataset by 'Host Id' and provide a statistical summary of the 'Price' column."
   ]
  },
  {
   "cell_type": "code",
   "execution_count": 4,
   "id": "b174f284",
   "metadata": {},
   "outputs": [
    {
     "name": "stdout",
     "output_type": "stream",
     "text": [
      "Reviews per Price: count    30478.000000\n",
      "mean       163.589737\n",
      "std        197.785454\n",
      "min         10.000000\n",
      "25%         80.000000\n",
      "50%        125.000000\n",
      "75%        195.000000\n",
      "max      10000.000000\n",
      "Name: Price, dtype: float64\n",
      "    Host Id Host Since                                 Name Neighbourhood   \\\n",
      "3       500 2008-06-26   Gorgeous 1 BR with Private Balcony      Manhattan   \n",
      "4       500 2008-06-26             Trendy Times Square Loft      Manhattan   \n",
      "5      1039 2008-07-25   Big Greenpoint 1BD w/ Skyline View       Brooklyn   \n",
      "6      1783 2008-08-12                         Amazing Also      Manhattan   \n",
      "7      2078 2008-08-15  Colorful, quiet, & near the subway!       Brooklyn   \n",
      "8      2339 2008-08-20  East Village Cocoon: 2 Bedroom Flat      Manhattan   \n",
      "9      2339 2008-08-20   Lovely 2 Bedroom East Village Nest      Manhattan   \n",
      "10     2571 2008-08-27                           THE PUTNAM       Brooklyn   \n",
      "11     2758 2008-09-06     Stay at Chez Chic budget room #1      Manhattan   \n",
      "12     2758 2008-09-06     Stay at Chez Chic budget Room #2      Manhattan   \n",
      "\n",
      "   Property Type  Review Scores Rating (bin)        Room Type  Zipcode  Beds  \\\n",
      "3      Apartment                         NaN  Entire home/apt  10024.0   3.0   \n",
      "4      Apartment                        95.0     Private room  10036.0   3.0   \n",
      "5      Apartment                       100.0  Entire home/apt  11222.0   1.0   \n",
      "6      Apartment                       100.0  Entire home/apt  10004.0   1.0   \n",
      "7      Apartment                        90.0     Private room  11201.0   1.0   \n",
      "8      Apartment                        90.0  Entire home/apt  10009.0   2.0   \n",
      "9      Apartment                        95.0  Entire home/apt  10009.0   2.0   \n",
      "10     Apartment                        95.0  Entire home/apt  11221.0   2.0   \n",
      "11     Apartment                        90.0     Private room  10026.0   2.0   \n",
      "12     Apartment                        90.0     Private room  10026.0   2.0   \n",
      "\n",
      "    Number of Records  Number Of Reviews  Price  Review Scores Rating  \n",
      "3                   1                  0    199                   NaN  \n",
      "4                   1                 39    549                  96.0  \n",
      "5                   1                  4    149                 100.0  \n",
      "6                   1                  9    250                 100.0  \n",
      "7                   1                 80     90                  94.0  \n",
      "8                   1                 95    270                  90.0  \n",
      "9                   1                 23    290                  96.0  \n",
      "10                  1                 14    170                  98.0  \n",
      "11                  1                120     59                  93.0  \n",
      "12                  1                 81     49                  91.0  \n"
     ]
    }
   ],
   "source": [
    "# Sort by 'Host Id' and describe 'Price'\n",
    "Airbnb_df = Airbnb_df.sort_values(by='Host Id', ascending=True)\n",
    "print(f\"Reviews per Price: {Airbnb_df['Price'].describe()}\")\n",
    "print(Airbnb_df.head(10))"
   ]
  },
  {
   "cell_type": "markdown",
   "id": "b4594374",
   "metadata": {},
   "source": [
    "# Clean Column Names\n",
    "Remove leading and trailing spaces from all column names to ensure consistency."
   ]
  },
  {
   "cell_type": "code",
   "execution_count": 5,
   "id": "af07f161",
   "metadata": {},
   "outputs": [],
   "source": [
    "# Remove leading and trailing spaces from column names\n",
    "for col in Airbnb_df.columns:\n",
    "    clean_col = col.strip()\n",
    "    if col != clean_col:\n",
    "        Airbnb_df.rename(columns={col: clean_col}, inplace=True)"
   ]
  },
  {
   "cell_type": "markdown",
   "id": "b5128fb9",
   "metadata": {},
   "source": [
    "# Remove Duplicates\n",
    "Drop duplicate rows based on 'Host Id' and 'Host Since' to keep unique host records."
   ]
  },
  {
   "cell_type": "code",
   "execution_count": 6,
   "id": "cd5471fa",
   "metadata": {},
   "outputs": [],
   "source": [
    "# Remove duplicate rows based on 'Host Id' and 'Host Since'\n",
    "Airbnb_df = Airbnb_df.drop_duplicates(subset=['Host Id', 'Host Since'])"
   ]
  },
  {
   "cell_type": "markdown",
   "id": "5894c2b1",
   "metadata": {},
   "source": [
    "# Convert Data Types\n",
    "Convert the 'Host Since' column to datetime format and keep only the date part."
   ]
  },
  {
   "cell_type": "code",
   "execution_count": 7,
   "id": "188e0350",
   "metadata": {},
   "outputs": [],
   "source": [
    "# Convert 'Host Since' to datetime and keep only the date part\n",
    "Airbnb_df[\"Host Since\"] = pd.to_datetime(Airbnb_df[\"Host Since\"], format=\"%d/%m/%Y\").dt.date"
   ]
  },
  {
   "cell_type": "markdown",
   "id": "9f57f8ee",
   "metadata": {},
   "source": [
    "# Drop Unnecessary Columns\n",
    "Remove the 'Review Scores Rating (bin)' column as it is not needed for further analysis."
   ]
  },
  {
   "cell_type": "code",
   "execution_count": 8,
   "id": "3dd35d75",
   "metadata": {},
   "outputs": [],
   "source": [
    "# Delete 'Review Scores Rating (bin)' column\n",
    "Airbnb_df = Airbnb_df.drop(columns=['Review Scores Rating (bin)'])"
   ]
  },
  {
   "cell_type": "markdown",
   "id": "a390357b",
   "metadata": {},
   "source": [
    "# Ensure Numeric Columns\n",
    "Convert 'Price', 'Number of Records', 'Number Of Reviews', and 'Review Scores Rating' columns to numeric types, coercing errors to NaN."
   ]
  },
  {
   "cell_type": "code",
   "execution_count": 9,
   "id": "dcf0ec15",
   "metadata": {},
   "outputs": [],
   "source": [
    "# Ensure numeric columns are in the correct format\n",
    "Airbnb_df['Price'] = pd.to_numeric(Airbnb_df['Price'], errors='coerce')\n",
    "Airbnb_df['Number of Records'] = pd.to_numeric(Airbnb_df['Number of Records'], errors='coerce')\n",
    "Airbnb_df['Number Of Reviews'] = pd.to_numeric(Airbnb_df['Number Of Reviews'], errors='coerce')\n",
    "Airbnb_df['Review Scores Rating'] = pd.to_numeric(Airbnb_df['Review Scores Rating'], errors='coerce')"
   ]
  },
  {
   "cell_type": "markdown",
   "id": "669be57e",
   "metadata": {},
   "source": [
    "# Impute Missing Prices\n",
    "Fill missing 'Price' values using the median price by 'Zipcode' and then by 'Neighbourhood'. Drop rows where 'Price' is still missing."
   ]
  },
  {
   "cell_type": "code",
   "execution_count": 10,
   "id": "f6510a7b",
   "metadata": {},
   "outputs": [],
   "source": [
    "# Fill empty/NaN values for 'Price' using median by 'Zipcode' and then by 'Neighbourhood'\n",
    "Airbnb_df['Price'] = Airbnb_df['Price'].fillna(Airbnb_df.groupby('Zipcode')['Price'].transform('median'))\n",
    "Airbnb_df['Price'] = Airbnb_df['Price'].fillna(Airbnb_df.groupby('Neighbourhood')['Price'].transform('median'))\n",
    "Airbnb_df = Airbnb_df.dropna(subset=['Price'])"
   ]
  },
  {
   "cell_type": "markdown",
   "id": "55d03b7d",
   "metadata": {},
   "source": [
    "# Remove Outliers and Invalid Rows\n",
    "Remove rows with 'Review Scores Rating' outside 1-100 and rows with no records. Drop rows with missing key fields."
   ]
  },
  {
   "cell_type": "code",
   "execution_count": 11,
   "id": "d1534779",
   "metadata": {},
   "outputs": [],
   "source": [
    "# Remove outliers and invalid rows\n",
    "Airbnb_df = Airbnb_df[(Airbnb_df['Review Scores Rating'] >= 1) & (Airbnb_df['Review Scores Rating'] <= 100)]\n",
    "Airbnb_df = Airbnb_df[(Airbnb_df['Number of Records'] >= 1)]\n",
    "Airbnb_df = Airbnb_df.dropna(\n",
    "    subset=[\n",
    "        'Host Id', 'Host Since', 'Neighbourhood', 'Zipcode',\n",
    "        'Property Type', 'Room Type', 'Beds', 'Price',\n",
    "        'Number of Records', 'Number Of Reviews', 'Review Scores Rating'\n",
    "    ]\n",
    ")"
   ]
  },
  {
   "cell_type": "markdown",
   "id": "5e28b6bb",
   "metadata": {},
   "source": [
    "# Categorize Columns\n",
    "Convert 'Neighbourhood', 'Room Type', 'Beds', and 'Property Type' columns to categorical data types for better memory usage and analysis."
   ]
  },
  {
   "cell_type": "code",
   "execution_count": 12,
   "id": "f9d14bd2",
   "metadata": {},
   "outputs": [],
   "source": [
    "# Convert columns to categorical data types\n",
    "Airbnb_df['Neighbourhood'] = Airbnb_df['Neighbourhood'].astype('category')\n",
    "Airbnb_df['Room Type'] = Airbnb_df['Room Type'].astype('category')\n",
    "Airbnb_df['Beds'] = Airbnb_df['Beds'].astype('category')\n",
    "Airbnb_df['Property Type'] = Airbnb_df['Property Type'].astype('category')"
   ]
  },
  {
   "cell_type": "markdown",
   "id": "b2c4267f",
   "metadata": {},
   "source": [
    "# Reorder Columns\n",
    "Rearrange columns for better readability and easier analysis."
   ]
  },
  {
   "cell_type": "code",
   "execution_count": 13,
   "id": "47677dc4",
   "metadata": {},
   "outputs": [],
   "source": [
    "# Reorder columns for better readability\n",
    "Airbnb_df = Airbnb_df[['Host Id', 'Host Since', 'Neighbourhood', 'Zipcode', 'Property Type', 'Room Type', 'Beds', 'Price', 'Number of Records', 'Number Of Reviews', 'Review Scores Rating']]"
   ]
  },
  {
   "cell_type": "markdown",
   "id": "356b8fb6",
   "metadata": {},
   "source": [
    "# Save Cleaned Dataset\n",
    "Save the cleaned dataset as a CSV file. Handle errors if the directory does not exist or is not writable."
   ]
  },
  {
   "cell_type": "code",
   "execution_count": 14,
   "id": "c1313b7a",
   "metadata": {},
   "outputs": [
    {
     "name": "stdout",
     "output_type": "stream",
     "text": [
      "✅ Dataset saved successfully to: ../Datasource/airbnb_clean.csv\n",
      "📊 Cleaned dataset: 17,282 rows × 11 columns\n"
     ]
    }
   ],
   "source": [
    "# Save the cleaned dataset with error handling\n",
    "try:\n",
    "    output_path = os.path.join(\"..\", \"Datasource\", \"airbnb_clean.csv\")\n",
    "    Airbnb_df.to_csv(output_path, index=False)\n",
    "    print(f\"✅ Dataset saved successfully to: {output_path}\")\n",
    "    print(f\"📊 Cleaned dataset: {Airbnb_df.shape[0]:,} rows × {Airbnb_df.shape[1]} columns\")\n",
    "except Exception as e:\n",
    "    print(f\"❌ Error saving dataset: {str(e)}\")\n",
    "    print(\"⚠️  Please check if the 'Datasource' directory exists and you have write permissions.\")"
   ]
  }
 ],
 "metadata": {
  "kernelspec": {
   "display_name": "Python 3",
   "language": "python",
   "name": "python3"
  },
  "language_info": {
   "codemirror_mode": {
    "name": "ipython",
    "version": 3
   },
   "file_extension": ".py",
   "mimetype": "text/x-python",
   "name": "python",
   "nbconvert_exporter": "python",
   "pygments_lexer": "ipython3",
   "version": "3.13.3"
  }
 },
 "nbformat": 4,
 "nbformat_minor": 5
}
